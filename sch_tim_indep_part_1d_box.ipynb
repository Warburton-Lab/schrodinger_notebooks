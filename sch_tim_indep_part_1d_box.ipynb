{
 "cells": [
  {
   "attachments": {},
   "cell_type": "markdown",
   "metadata": {},
   "source": [
    "James Telzrow \\\n",
    "2023-05-23 \\\n",
    "Warburton Lab \\\n",
    "Schrodinger Time Independent Particle In Box"
   ]
  },
  {
   "attachments": {},
   "cell_type": "markdown",
   "metadata": {},
   "source": [
    "## Introduction\n",
    "\n",
    "This notebook describes the process of analytically solving the *Time-independent Schrodinger equation* for the \"Particle In a Box\" problem.\n",
    "If you aren't interested in the derivation of the analytical solutions and just wish to find and  plot them, then scroll down to  the section entitled **Plotting Analytical Solution**.\n",
    "The contents of this notebook are based partially on the following source:\n",
    "\n",
    "* David Morin. \"Waves (Draft), Chapter 10: Introduction to quantum mechanics\".  19 July 2010. [Author's academic web site](https://scholar.harvard.edu/david-morin/waves)."
   ]
  },
  {
   "attachments": {},
   "cell_type": "markdown",
   "metadata": {},
   "source": [
    "Suppose there exists a particle in a one-dimensional box on the real line.\n",
    "Let this box be bounded on the left by $0$, and bounded on the right by some number $L$.\n",
    "Let the particle have mass $m$, a definite quantity of energy $E$, and potential energy $V(x)$ that is equal to zero on $(0, L)$ and equal to $\\infty$ everywhere else.\n",
    "Then this particle's wave functions $\\psi(x)$ are those that satisfy the *Time-independent Schrodinger equation*:\n",
    "$$\n",
    "\\begin{equation*}\n",
    "E\\psi(x) = -\\frac{\\hbar^2}{2m}\\frac{d^2\\psi(x)}{dx^2} + V(x)\\psi(x)\n",
    "\\end{equation*}\n",
    "$$\n",
    "where $\\hbar$ is the reduced Planck constant, $\\hbar = \\frac{h}{2\\pi}$."
   ]
  },
  {
   "attachments": {},
   "cell_type": "markdown",
   "metadata": {},
   "source": [
    "## Analytical Solution\n",
    "\n",
    "Because the particle cannot leave the box, $|\\psi(x)|^2 = 0$ must be true for all $x$ not in the interval $(0, L)$.\n",
    "Additionally, we are given that the potential energy of the particle is zero within the box (on the interval $(0, L)$).\n",
    "We wish to solve for the continuous wave function, $\\psi(x)$, on the interval $(0, L)$.\n",
    "To do this, we begin by setting up the following differential equation:"
   ]
  },
  {
   "cell_type": "code",
   "execution_count": 2,
   "metadata": {},
   "outputs": [
    {
     "data": {
      "text/latex": [
       "$\\displaystyle E \\psi{\\left(x \\right)} = - \\frac{\\hbar^{2} \\frac{d^{2}}{d x^{2}} \\psi{\\left(x \\right)}}{2 m}$"
      ],
      "text/plain": [
       "Eq(E*psi(x), -hbar**2*Derivative(psi(x), (x, 2))/(2*m))"
      ]
     },
     "execution_count": 2,
     "metadata": {},
     "output_type": "execute_result"
    }
   ],
   "source": [
    "from sympy import dsolve, Eq, Function, Rational, symbols\n",
    "E, hbar, m, x = symbols('E, hbar, m, x')\n",
    "psi = Function('psi')\n",
    "schrod_eq = Eq(E*psi(x), -1*(hbar**2/(2*m))*psi(x).diff(x, x) + 0*psi(x))\n",
    "schrod_eq\n"
   ]
  },
  {
   "attachments": {},
   "cell_type": "markdown",
   "metadata": {},
   "source": [
    "Now consider the particle's total energy $E$, and recall three facts:\n",
    "1. Every particle can be represented as a wave with a frequency $\\omega$ and a wavenumber $k$.\n",
    "2. The total energy of a particle equals the reduced Planck constant times its wavelength: $E = \\hbar\\omega$.\n",
    "3. The momentum of a particle, $p$, equals the reduced Planck constant times its wavenumber: $p = \\hbar k$.\n",
    "Now recall that the total energy of this particle is the sum of its kinetic and potential energy.\n",
    "But within in this box, it has no potential energy, meaning its total energy equals its kinetic energy.\n",
    "Therefore, letting $v$ denote the particle's velocity, the total energy $E$ is given by\n",
    "$$\n",
    "E = \\frac{1}{2}mv^2 + 0 = \\frac{p^2}{2m} = \\frac{\\hbar^2 k^2}{2m}\n",
    "$$\n",
    "We substitute this expression for $E$ in the equation above:"
   ]
  },
  {
   "cell_type": "code",
   "execution_count": 3,
   "metadata": {},
   "outputs": [
    {
     "data": {
      "text/latex": [
       "$\\displaystyle \\frac{\\hbar^{2} k^{2} \\psi{\\left(x \\right)}}{2 m} = - \\frac{\\hbar^{2} \\frac{d^{2}}{d x^{2}} \\psi{\\left(x \\right)}}{2 m}$"
      ],
      "text/plain": [
       "Eq(hbar**2*k**2*psi(x)/(2*m), -hbar**2*Derivative(psi(x), (x, 2))/(2*m))"
      ]
     },
     "execution_count": 3,
     "metadata": {},
     "output_type": "execute_result"
    }
   ],
   "source": [
    "k = symbols('k')\n",
    "schrod_eq = schrod_eq.subs(E, hbar**2 * k**2 / (2*m))\n",
    "schrod_eq\n"
   ]
  },
  {
   "attachments": {},
   "cell_type": "markdown",
   "metadata": {},
   "source": [
    "And then we solve this linear second-order homogeneous differential equation:"
   ]
  },
  {
   "cell_type": "code",
   "execution_count": 4,
   "metadata": {},
   "outputs": [
    {
     "data": {
      "text/latex": [
       "$\\displaystyle \\psi{\\left(x \\right)} = C_{1} e^{- i k x} + C_{2} e^{i k x}$"
      ],
      "text/plain": [
       "Eq(psi(x), C1*exp(-I*k*x) + C2*exp(I*k*x))"
      ]
     },
     "execution_count": 4,
     "metadata": {},
     "output_type": "execute_result"
    }
   ],
   "source": [
    "result = dsolve(schrod_eq, psi(x))\n",
    "result\n"
   ]
  },
  {
   "attachments": {},
   "cell_type": "markdown",
   "metadata": {},
   "source": [
    "We can simplify this using Euler's formula: $e^{i\\theta} = \\cos(\\theta) + i\\sin(\\theta)$"
   ]
  },
  {
   "cell_type": "code",
   "execution_count": 5,
   "metadata": {},
   "outputs": [
    {
     "data": {
      "text/latex": [
       "$\\displaystyle \\psi{\\left(x \\right)} = \\left(C_{1} + C_{2}\\right) \\cos{\\left(k x \\right)} + \\left(- i C_{1} + i C_{2}\\right) \\sin{\\left(k x \\right)}$"
      ],
      "text/plain": [
       "Eq(psi(x), (C1 + C2)*cos(k*x) + (-I*C1 + I*C2)*sin(k*x))"
      ]
     },
     "execution_count": 5,
     "metadata": {},
     "output_type": "execute_result"
    }
   ],
   "source": [
    "from sympy import collect, cos, exp, sin\n",
    "\n",
    "\n",
    "def sort_func(symbol):\n",
    "    \"\"\"Sorts SymPy Symbols alphabetically by their name\n",
    "    \"\"\"\n",
    "    return symbol.name\n",
    "\n",
    "# result_free_symbols is a set, so solving the differential equation and\n",
    "# then iterating through the free symbols on different occasions may \n",
    "# yield the symbols in a different order. To overcome this, we put them \n",
    "# in a list and then organize it alphabetically by symbol name\n",
    "free_symbols = [symbol for symbol in result.free_symbols if not symbol.equals(\n",
    "    x) and not symbol.equals(k)]\n",
    "free_symbols.sort(key=sort_func)\n",
    "C1, C2 = free_symbols\n",
    "result = Eq(psi(x), collect(result.rewrite(exp, sin).expand().rhs,\n",
    "            [sin(k*x), cos(k*x)], evaluate=True))\n",
    "result\n"
   ]
  },
  {
   "attachments": {},
   "cell_type": "markdown",
   "metadata": {},
   "source": [
    "Recall that $\\psi(x)$ is continuous, and must equal zero at $x = 0$ and $x = L$.\n",
    "We can use this information to simplify our solution further:"
   ]
  },
  {
   "cell_type": "code",
   "execution_count": 6,
   "metadata": {},
   "outputs": [
    {
     "name": "stdout",
     "output_type": "stream",
     "text": [
      "Left boundary condition:\n"
     ]
    },
    {
     "data": {
      "text/latex": [
       "$\\displaystyle 0 = C_{1} + C_{2}$"
      ],
      "text/plain": [
       "Eq(0, C1 + C2)"
      ]
     },
     "metadata": {},
     "output_type": "display_data"
    },
    {
     "name": "stdout",
     "output_type": "stream",
     "text": [
      "Right boundary condition:\n"
     ]
    },
    {
     "data": {
      "text/latex": [
       "$\\displaystyle 0 = - 2 i C_{1} \\sin{\\left(L k \\right)}$"
      ],
      "text/plain": [
       "Eq(0, -2*I*C1*sin(L*k))"
      ]
     },
     "metadata": {},
     "output_type": "display_data"
    }
   ],
   "source": [
    "from IPython.display import display\n",
    "left_boundary_cond = Eq(0, result.rhs.subs(x, 0))\n",
    "print('Left boundary condition:')\n",
    "display(left_boundary_cond)\n",
    "L = symbols('L')\n",
    "right_boundary_cond = Eq(0, result.rhs.subs({C2: -C1, x: L}))\n",
    "print('Right boundary condition:')\n",
    "display(right_boundary_cond)\n"
   ]
  },
  {
   "attachments": {},
   "cell_type": "markdown",
   "metadata": {},
   "source": [
    "In order to avoid the trivial case where $-2iC_1 = 0$, we let $0 = \\sin(Lk)$, meaning that $Lk = n\\pi \\rightarrow k = \\frac{n\\pi}{L}$, where $n$ is any integer.\n",
    "But recall that $E = \\frac{\\hbar^2 k^2}{2m} = \\frac{\\hbar^2 n^2 \\pi^2}{2mL^2}$.\n",
    "And because in this example $E$ is equal to the particle's kinetic energy, $n$ cannot be negative.\n",
    "And $n$ also must not be zero, because then the particle has no energy and is completely still.\n",
    "Thus, $k = \\frac{n\\pi}{L}$ where $n$ is any positive integer.\n",
    "Therefore, our solution is:"
   ]
  },
  {
   "cell_type": "code",
   "execution_count": 7,
   "metadata": {},
   "outputs": [
    {
     "data": {
      "text/latex": [
       "$\\displaystyle \\psi{\\left(x \\right)} = - 2 i C_{1} \\sin{\\left(\\frac{\\pi n x}{L} \\right)}$"
      ],
      "text/plain": [
       "Eq(psi(x), -2*I*C1*sin(pi*n*x/L))"
      ]
     },
     "metadata": {},
     "output_type": "display_data"
    }
   ],
   "source": [
    "from sympy import pi, Symbol\n",
    "n = Symbol('n', positive=True, integer=True)\n",
    "result = result.subs({C2: -C1, k: n*pi/L})\n",
    "display(result)\n"
   ]
  },
  {
   "attachments": {},
   "cell_type": "markdown",
   "metadata": {},
   "source": [
    "But recall that $C_1$ is an arbitrary (possibly complex) constant, so for simplicity we can replace $-2iC_1$ with another possibly complex constant $A$:"
   ]
  },
  {
   "cell_type": "code",
   "execution_count": 8,
   "metadata": {},
   "outputs": [
    {
     "data": {
      "text/latex": [
       "$\\displaystyle \\psi{\\left(x \\right)} = A \\sin{\\left(\\frac{\\pi n x}{L} \\right)}$"
      ],
      "text/plain": [
       "Eq(psi(x), A*sin(pi*n*x/L))"
      ]
     },
     "metadata": {},
     "output_type": "display_data"
    }
   ],
   "source": [
    "from sympy import I\n",
    "# In SymPy, real and imaginary numbers are complex\n",
    "A = Symbol('A', complex=True)\n",
    "result = result.subs(-2*I*C1, A)\n",
    "display(result)\n"
   ]
  },
  {
   "attachments": {},
   "cell_type": "markdown",
   "metadata": {},
   "source": [
    "But recall that the squared magnitude of $\\psi(x)$ is a probability density function, and $\\psi(x) = 0$ for all $x$ outside of the interval $(0, L)$.\n",
    "Therefore,\n",
    "$$\n",
    "\\int_0^L |\\psi(x)|^2 dx = 1 =\n",
    "\\int_0^L |A \\sin\\big(\\frac{\\pi n x}{L}\\big)|^2 dx =\n",
    "4\\int_0^L |A \\sin\\big(\\frac{\\pi n x}{L}\\big)|^2 dx\n",
    "$$\n",
    "Because $\\sin\\big(\\frac{\\pi n x}{L}\\big)$ is a real number for every $x$ in $(0, L)$, then\n",
    "$$\n",
    "\\int_0^L |A \\sin\\big(\\frac{\\pi n x}{L}\\big)|^2 dx = \n",
    "|A|^2 \\int_0^L \\sin\\big(\\frac{\\pi n x}{L}\\big)^2 dx\n",
    "$$\n",
    "We can evaluate this latter integral:"
   ]
  },
  {
   "cell_type": "code",
   "execution_count": 9,
   "metadata": {},
   "outputs": [
    {
     "data": {
      "text/latex": [
       "$\\displaystyle \\frac{L}{2}$"
      ],
      "text/plain": [
       "L/2"
      ]
     },
     "execution_count": 9,
     "metadata": {},
     "output_type": "execute_result"
    }
   ],
   "source": [
    "from sympy import integrate, Abs\n",
    "integrand = sin(pi*n*x/L)**2\n",
    "# Exclude case where pi*n/L = 0\n",
    "integration_result = integrate(integrand, (x, 0, L)).args[0][0]\n",
    "integration_result\n"
   ]
  },
  {
   "attachments": {},
   "cell_type": "markdown",
   "metadata": {},
   "source": [
    "This means that our constant $A$ must satisfy:"
   ]
  },
  {
   "cell_type": "code",
   "execution_count": 10,
   "metadata": {},
   "outputs": [
    {
     "data": {
      "text/latex": [
       "$\\displaystyle \\left|{A}\\right| = \\sqrt{2} \\sqrt{\\frac{1}{L}}$"
      ],
      "text/plain": [
       "Eq(Abs(A), sqrt(2)*sqrt(1/L))"
      ]
     },
     "metadata": {},
     "output_type": "display_data"
    }
   ],
   "source": [
    "from sympy import solve, sqrt\n",
    "abs_A = Symbol('abs_A')\n",
    "# Take the principal square root, since we are solving for |A|\n",
    "abs_A = solve(\n",
    "    Eq(1, Abs(A)**2*integration_result).subs(Abs(A), abs_A), abs_A)[1]\n",
    "abs_A_eq = Eq(Abs(A), abs_A)\n",
    "display(abs_A_eq)\n"
   ]
  },
  {
   "attachments": {},
   "cell_type": "markdown",
   "metadata": {},
   "source": [
    "There are obviously infinitely many complex solutions to this equation, but there are only two real solutions.\n",
    "For simplicity, we choose the positive solution: $A = \\sqrt{\\frac{2}{L}}$."
   ]
  },
  {
   "attachments": {},
   "cell_type": "markdown",
   "metadata": {},
   "source": [
    "Now consider the solution again:"
   ]
  },
  {
   "cell_type": "code",
   "execution_count": 11,
   "metadata": {},
   "outputs": [
    {
     "data": {
      "text/latex": [
       "$\\displaystyle \\psi{\\left(x \\right)} = A \\sin{\\left(\\frac{\\pi n x}{L} \\right)}$"
      ],
      "text/plain": [
       "Eq(psi(x), A*sin(pi*n*x/L))"
      ]
     },
     "metadata": {},
     "output_type": "display_data"
    }
   ],
   "source": [
    "display(result)\n"
   ]
  },
  {
   "attachments": {},
   "cell_type": "markdown",
   "metadata": {},
   "source": [
    "and note that it depends on $n$.\n",
    "Also recall the energy of the particle: $E = \\frac{\\hbar^2 n^2 \\pi^2}{2mL^2}$, and note that $E$ increases as $n$ increases. Additionally, recall that $n$ is always a positive integer.\n",
    "In this way, the values of $n$ correspond to the different energy levels at which the particle exists, and for each energy level, there exists a corresponding wave function $\\psi_n(x)$."
   ]
  },
  {
   "attachments": {},
   "cell_type": "markdown",
   "metadata": {},
   "source": [
    "## Plotting Analytical Solution\n",
    "\n",
    "The code below plots $|\\psi_n(x)|^2$ on the interval $(0, L)$ given the length of the box $L$ in meters, a list of positive integer values for $n$ corresponding to energy levels, the number of evenly spaced points on the x-axis at which to evaluate $|\\psi(x)|^2$, and the mass of the particle, in kilograms.\n",
    "It also calculates the amount of energy $E_n$, in Joules, that the particle posesses at each energy level, and horizontally shifts the graph of $|\\psi_n(x)|^2$ by this amount.\n",
    "\n",
    "**Note:** All the above cells must be executed in order to run the two cells below.\n",
    "You can do this quickly in VSCode/GitHub Codespaces by clicking the code cell below and then pressing the \"Execute Above Cells\" button on the top right edge of the cell, which is that with a right-pointing triangle and an upward-pointing arrow.\n",
    "All together, these cells should take no more than a few seconds to run."
   ]
  },
  {
   "cell_type": "code",
   "execution_count": 12,
   "metadata": {},
   "outputs": [
    {
     "data": {
      "text/plain": [
       "<matplotlib.legend.Legend at 0x112534650>"
      ]
     },
     "execution_count": 12,
     "metadata": {},
     "output_type": "execute_result"
    },
    {
     "data": {
      "image/png": "[encoded data removed]",
      "text/plain": [
       "<Figure size 640x480 with 1 Axes>"
      ]
     },
     "metadata": {},
     "output_type": "display_data"
    }
   ],
   "source": [
    "import matplotlib.pyplot as plt\n",
    "import numpy as np\n",
    "from sympy import lambdify\n",
    "\n",
    "# Length of the box in meters (x-cordinate of the box's right side)\n",
    "L_value = 1\n",
    "n_values = [1, 2, 3,]  # Energy Levels\n",
    "number_of_eval_points = 100\n",
    "\n",
    "# Reduced Planck Constant, in Joule seconds\n",
    "hbar = 1.054_571_817e-34\n",
    "# Mass of the particle, in kilograms (chosen to adequately seperate\n",
    "# curves in graph)\n",
    "mass = 3e-68\n",
    "\n",
    "# Plot a horizontal line at each energy level, which acts as the\n",
    "# \"bottom\" of the probability density function |psi(x)|^2\n",
    "show_energy_as_horizontal_line = True\n",
    "\n",
    "if L_value <= 0:\n",
    "    raise ValueError('L must be positive')\n",
    "if hbar <= 0:\n",
    "    raise ValueError('Reduced Planck Constant must be positive')\n",
    "if mass <= 0:\n",
    "    raise ValueError('Mass must be positive')\n",
    "\n",
    "# given a value (or an array of values) for x and and a value for n,\n",
    "# lambdified_psi_mag_sq quickly returns the floating point value of\n",
    "# |psi_n(x)|^2\n",
    "lambdified_psi_mag_sq = lambdify([x, n], Abs(\n",
    "    result.subs({A: abs_A_eq.rhs, L: L_value}).rhs)**2, 'numpy')\n",
    "eval_points = np.linspace(0, L_value, number_of_eval_points)\n",
    "\n",
    "energy_expression = (hbar**2 * n**2 * pi**2)/(2*m*L**2)\n",
    "lambdified_nrg_expr = lambdify(n, energy_expression.subs(\n",
    "    {hbar: hbar, m: mass, L: L_value}))\n",
    "\n",
    "for n_value in n_values:\n",
    "    if type(n_value) != int:\n",
    "        raise ValueError('n_values must be integers')\n",
    "    elif n_value < 1:\n",
    "        raise ValueError('n_values must be positive')\n",
    "    psi_mag_sq_vals = lambdified_psi_mag_sq(eval_points, n_value)\n",
    "    energy_val = lambdified_nrg_expr(n_value)\n",
    "    psi_mag_sq_vals += energy_val\n",
    "    plt.plot(eval_points, psi_mag_sq_vals, label='n = ' + str(n_value))\n",
    "    if show_energy_as_horizontal_line:\n",
    "        plt.axhline(y=energy_val, linestyle='dashed')\n",
    "\n",
    "plt.xlabel('x (Position)')\n",
    "plt.ylabel('E (Joules)')\n",
    "plt.title('Squared magnitude of wave function')\n",
    "plt.legend()\n"
   ]
  },
  {
   "attachments": {},
   "cell_type": "markdown",
   "metadata": {},
   "source": [
    "The code below displays the general analytic solution $\\psi(x)$, and plots $\\psi_n(x)$ on the interval $(0, L)$, using the values of $L$, the energy levels, the number of evaluation points, and particle mass supplied in the previous code cell.\n",
    "Like the previous cell, this calcualtes the amount of energy the particle posesses at each energy level and horizontally shifts the graph of $\\psi_n(x)$ by this amount.\n",
    "Although the constant $A$ in the solution could be any one of infinitely many complex numbers of magnitude $\\sqrt{\\frac{2}{L}}$, this code replaces $A$ with the positive real value $\\sqrt{\\frac{2}{L}}$ for simplicity."
   ]
  },
  {
   "cell_type": "code",
   "execution_count": 17,
   "metadata": {},
   "outputs": [
    {
     "name": "stdout",
     "output_type": "stream",
     "text": [
      "Analytic Solution:\n"
     ]
    },
    {
     "data": {
      "text/latex": [
       "$\\displaystyle \\psi{\\left(x \\right)} = A \\sin{\\left(\\frac{\\pi n x}{L} \\right)}$"
      ],
      "text/plain": [
       "Eq(psi(x), A*sin(pi*n*x/L))"
      ]
     },
     "metadata": {},
     "output_type": "display_data"
    },
    {
     "data": {
      "text/plain": [
       "<matplotlib.legend.Legend at 0x115cf9dd0>"
      ]
     },
     "execution_count": 17,
     "metadata": {},
     "output_type": "execute_result"
    },
    {
     "data": {
      "image/png": "[encoded data removed]",
      "text/plain": [
       "<Figure size 640x480 with 1 Axes>"
      ]
     },
     "metadata": {},
     "output_type": "display_data"
    }
   ],
   "source": [
    "print('Analytic Solution:')\n",
    "display(result)\n",
    "\n",
    "# given a value (or an array of values) for x and and a value for n,\n",
    "# lambdified_psi quickly returns the floating point value of psi_n(x)\n",
    "lambdified_psi = lambdify([x, n], result.subs(\n",
    "    {A: abs_A_eq.rhs, L: L_value}).rhs, 'numpy')\n",
    "\n",
    "for n_value in n_values:\n",
    "    if type(n_value) != int:\n",
    "        raise ValueError('n_values must be integers')\n",
    "    elif n_value < 1:\n",
    "        raise ValueError('n_values must be positive')\n",
    "    psi_vals = lambdified_psi(eval_points, n_value)\n",
    "    energy_val = lambdified_nrg_expr(n_value)\n",
    "    psi_vals += energy_val\n",
    "    plt.plot(eval_points, psi_vals, label='n = ' + str(n_value))\n",
    "    plt.axhline(y=energy_val, linestyle='dashed')\n",
    "\n",
    "plt.xlabel('x (Position)')\n",
    "plt.ylabel('E (Joules)')\n",
    "plt.title('Wave function with positive real coefficient')\n",
    "plt.legend()\n"
   ]
  }
 ],
 "metadata": {
  "kernelspec": {
   "display_name": ".venv",
   "language": "python",
   "name": "python3"
  },
  "language_info": {
   "codemirror_mode": {
    "name": "ipython",
    "version": 3
   },
   "file_extension": ".py",
   "mimetype": "text/x-python",
   "name": "python",
   "nbconvert_exporter": "python",
   "pygments_lexer": "ipython3",
   "version": "3.11.4"
  },
  "orig_nbformat": 4
 },
 "nbformat": 4,
 "nbformat_minor": 2
}
