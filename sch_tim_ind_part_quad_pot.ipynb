{
 "cells": [
  {
   "attachments": {},
   "cell_type": "markdown",
   "metadata": {},
   "source": [
    "James Telzrow \\\n",
    "2023-06-01 \\\n",
    "Warburton Lab \\\n",
    "Schrodinger Time Independent Equation with Quadratic Potential (Quantum Harmonic Oscillator)"
   ]
  },
  {
   "attachments": {},
   "cell_type": "markdown",
   "metadata": {},
   "source": [
    "## Introduction\n",
    "\n",
    "This notebook describes the process of analytically solving the *Time-independent Schrodinger equation* for the \"Quantum Harmonic Oscillator\".\n",
    "The contents of this notebook are based partially on the following two sources:\n",
    "\n",
    "* [Lecture 8: Quantum Harmonic Oscillator: Brute Force Methods](https://ocw.mit.edu/courses/8-04-quantum-physics-i-spring-2013/808334d09369e3a726f6f20d82315c20_MIT8_04S13_Lec08.pdf). *Professor Allan Adams*. *8.04: Quantum Mechanics*. *Spring 2013*. Massachusetts Institute of Technology: MIT OpenCouseWare, https://ocw.mit.edu/. License: Creative Commons BY-NC-SA.\n",
    "* [Lecture 13: Delta Function Potential, Node Theorem, and Simple Harmonic Oscillator](https://ocw.mit.edu/courses/8-04-quantum-physics-i-spring-2016/ff9fdba4da09b783255583e2a61d1279_MIT8_04S16_LecNotes13.pdf). *Professor Barton Zwiebach*. *8.04: Quantum Mechanics*. *Fall 2016*. Massachusetts Institute of Technology: MIT OpenCouseWare, https://ocw.mit.edu/. License: Creative Commons BY-NC-SA."
   ]
  },
  {
   "attachments": {},
   "cell_type": "markdown",
   "metadata": {},
   "source": [
    "Suppose there exists a particle in a one-dimensional space (that is, on the x-axis.)\n",
    "Let this particle have mass $m$ and a definite quantity of energy $E$.\n",
    "Let $x_0$ and $k$ be some fixed real numbers, and let the particle have potential energy $V(x) = \\frac{k}{2}(x-x_0)^2$ when the particle is at point $x$.\n",
    "(That is, the  potential energy of the particle is proportional to the squared distance between the particle itself and the point $x_0$).\n",
    "Then this particle's wave functions $\\psi(x)$ are those that satisfy the *Time-independent Schrodinger equation*:\n",
    "$$\n",
    "\\begin{equation*}\n",
    "E\\psi(x) = -\\frac{\\hbar^2}{2m}\\frac{d^2\\psi(x)}{dx^2} + \\frac{k}{2}(x-x_0)^2\\psi(x)\n",
    "\\end{equation*}\n",
    "$$\n",
    "where $\\hbar$ is the reduced Planck constant, $\\hbar = \\frac{h}{2\\pi}$."
   ]
  },
  {
   "attachments": {},
   "cell_type": "markdown",
   "metadata": {},
   "source": [
    "Now consider the equation for the potential energy of the particle:\n",
    "$$\n",
    "V(x) = \\frac{k}{2}(x-x_0)^2\n",
    "$$\n",
    "Note that this is exactly the same as the potential energy of a harmonic oscillator centered at $x_0$ with spring constant $k$ and mass $m$.\n",
    "Recall that the angular frequency $\\omega$ of such a harmonic oscillator is given by $\\omega = \\sqrt{\\frac{k}{m}}$, meaning that the constant $k$ is related to the angular frequency and mass of the harmoic oscillator by the equation \n",
    "$$\n",
    "k = \\omega^2m\n",
    "$$\n",
    "Thus we can say the same for the particle under consideration.\n",
    "Therefore the Time-independent Schrodinger equation for this particle becomes\n",
    "$$\n",
    "\\begin{equation*}\n",
    "E\\psi(x) = -\\frac{\\hbar^2}{2m}\\frac{d^2\\psi(x)}{dx^2} + \\frac{\\omega^2 m}{2}(x-x_0)^2\\psi(x)\n",
    "\\end{equation*}\n",
    "$$"
   ]
  },
  {
   "attachments": {},
   "cell_type": "markdown",
   "metadata": {},
   "source": [
    "## Analytical Solution\n",
    "\n",
    "By rearranging the equation above, we can see that it is a linear second-order ordinary differential equation:\n",
    "$$\n",
    "\\begin{equation}\\tag{1}\n",
    "\\frac{\\hbar^2}{2m}\\frac{d^2\\psi(x)}{dx^2} = \n",
    "\\frac{\\omega^2m}{2}(x-x_0)^2\\psi(x) - E\\psi(x) =\n",
    "\\bigg(\\frac{\\omega^2m}{2}(x-x_0)^2 - E\\bigg)\\psi(x)\n",
    "\\end{equation}\n",
    "$$\n",
    "However, the coefficient of $\\psi(x)$ in this equation is not constant;\n",
    "it is a function of $x$, the position of the particle.\n",
    "There is no general method for solving such an equation, and some equations of this form cannot be solved analytically.\n",
    "However, this particular equation does have an analytical solution, and we solve for it below."
   ]
  },
  {
   "attachments": {},
   "cell_type": "markdown",
   "metadata": {},
   "source": [
    "We could cetainly begin solving Equation $(3)$ as-is, but it contains quite a few constants with dimensions.\n",
    "So if we tried to solve it as it is written, all of our work would involve all of these constants, which would unnecessarily complicate things.\n",
    "To work around, this, we can perform nondimensionalization, a process by which we remove physical dimensions from the equation by defining new variables in a clever way, and  then substitute them for existing variables.\n",
    "(Additionally, many other resources that discuss the Schrodinger equation for the \"quantum harmonic oscillator\" perform this step, so we do it here as well for consistency.)\n",
    "\n",
    "Let's consider the variable $(x - x_0)$.\n",
    "It  has units of length in meters, and it is multiplied by $\\frac{\\omega^2 m^2}{\\hbar^2}$.\n",
    "Now let's consider the units of $\\frac{\\omega^2 * m^2}{\\hbar^2} = \\frac{(2\\pi)^2\\text{freq}^2 m^2}{(2\\pi)^2 h^2}$:\n",
    "\\begin{gather*}\n",
    "\\frac{\\frac{1}{\\text{seconds}}^2 \\times \\text{kilograms}^2}{\\text{Joules}^2 \\times \\text{seconds}^2} = \n",
    "\\frac{\\frac{1}{\\text{seconds}}^2\\times \\text{kilograms}^2}{(\\text{kilograms}\\times \\text{meters}^2\\times\\frac{1}{\\text{seconds}}^2)^2\\times \\text{seconds}^2} =\n",
    "\\frac{1}{\\text{meters}^4}\n",
    "\\end{gather*}\n",
    "which is one over length to the fourth.\n",
    "Therefore, we define $\\alpha$ to be\n",
    "\\begin{gather*}\n",
    "    \\bigg(\\bigg(\\frac{\\omega^2 m^2}{\\hbar^2}\\bigg)^{-1}\\bigg)^\\frac{1}{4} = \\bigg(\\frac{\\hbar^2}{\\omega^2 m^2}\\bigg)^\\frac{1}{4} = \\sqrt{\\frac{\\hbar}{\\omega m}} = \\alpha\n",
    "\\end{gather*}\n",
    "then $\\alpha$ has units of meters, and so we can divide $(x - x_0)$ by $\\alpha$ to get our unitless length scale.\n",
    "So we define \n",
    "\\begin{gather*}\n",
    "    u = \\frac{(x - x_0)}{\\sqrt{\\frac{\\hbar}{\\omega m}}} = \\frac{(x-x_0)}{\\alpha}\n",
    "\\end{gather*}\n",
    "and then we replace $(x - x_0)$ with $u\\alpha$ in Equation $(1)$:\n",
    "\\begin{gather}\\tag{2}\n",
    "    \\frac{d^2\\psi(x)}{dx^2} = \\bigg(\\frac{\\omega^2 m^2}{\\hbar^2}(x - x_0)^2 - \\frac{E2m}{\\hbar^2}\\bigg)\\psi(x)\n",
    "    \\rightarrow\n",
    "    \\frac{d^2\\psi(\\alpha u)}{d(\\alpha u)^2} = \\bigg(\\frac{\\omega^2 m^2}{\\hbar^2} \\frac{\\hbar}{\\omega m}u^2 - \\frac{E2m}{\\hbar^2} \\bigg)\\psi(\\alpha u)\n",
    "    \\rightarrow\n",
    "    \\frac{d^2\\psi(\\alpha u)}{d(\\alpha u)^2} = \\bigg(\\frac{\\omega m}{\\hbar}u^2 - \\frac{E2m}{\\hbar^2} \\bigg)\\psi(\\alpha u)\n",
    "\\end{gather}\n",
    "Writing $\\psi(\\alpha u)$ and $\\frac{d^2\\psi(\\alpha u)}{d(\\alpha u)^2}$ is going to quickly lead to confusion and possibly mistakes.\n",
    "So instead, let's define a function $\\phi(u)$ such that\n",
    "\\begin{gather*}\n",
    "    \\phi(u) = \\psi(\\alpha u)\n",
    "\\end{gather*}\n",
    "For  clarity, let's also define another function\n",
    "\\begin{gather*}\n",
    "    f(u) = \\alpha u\n",
    "\\end{gather*}\n",
    "Then we have:\n",
    "\\begin{gather*}\n",
    "    \\phi(u) = \\psi(\\alpha u) = \\psi(f(u)) \\\\\n",
    "    \\frac{d\\phi(u)}{du} = \\frac{d\\psi(f(u))}{d(f(u))}\\frac{df(u)}{du} = \\frac{d\\psi(f(u))}{d(f(u))}\\alpha \\\\\n",
    "    \\frac{d^2\\phi(u)}{du^2} = \\frac{d}{d(f(u))}\\bigg(\\frac{d\\psi(f(u))}{d(f(u))}\\bigg)\\alpha = \\frac{d^2\\psi(f(u))}{d(f(u))^2} \\alpha^2\n",
    "\\end{gather*}\n",
    "which implies that\n",
    "\\begin{gather*}\n",
    "    \\frac{1}{\\alpha^2}\\frac{d^2\\phi(u)}{du^2} = \\frac{d^2\\psi(f(u))}{d(f(u))^2}\n",
    "\\end{gather*}"
   ]
  },
  {
   "attachments": {},
   "cell_type": "markdown",
   "metadata": {},
   "source": [
    "Now we apply these to Equation $(2)$ using substitution:\n",
    "\\begin{gather*}\n",
    "    \\frac{d^2\\psi(\\alpha u)}{d(\\alpha u)^2} = \\bigg(\\frac{\\omega m}{\\hbar}u^2 - \\frac{E2m}{\\hbar^2}\\bigg)\\psi(\\alpha u)\n",
    "    \\rightarrow\n",
    "    \\frac{1}{\\alpha^2}\\frac{d^2\\phi(u)}{du^2} = \\bigg(\\frac{\\omega m}{\\hbar}u^2 - \\frac{E2m}{\\hbar^2}\\bigg)\\phi(u)\n",
    "    \\rightarrow \\\\\n",
    "    \\frac{d^2\\phi(u)}{du^2} = \\bigg(u^2 - \\alpha^2\\frac{E2m}{\\hbar^2}\\bigg)\\phi(u)\n",
    "    \\rightarrow\n",
    "    \\frac{d^2\\phi(u)}{du^2} = \\bigg(u^2 - \\frac{\\hbar}{\\omega m}\\frac{E2m}{\\hbar^2}\\bigg)\\phi(u)\n",
    "    \\rightarrow\n",
    "\\end{gather*}\n",
    "\n",
    "\\begin{gather}\\tag{3}\n",
    "    \\frac{d^2\\phi(u)}{du^2} = \\bigg(u^2 - \\frac{E2}{\\omega\\hbar}\\bigg)\\phi(u)\n",
    "\\end{gather}\n",
    "\n",
    "Now let's consider the units of $\\frac{2}{\\omega \\hbar}$:\n",
    "\\begin{gather*}\n",
    "    \\frac{2}{2\\pi\\times \\text{freq}\\times \\text{Joules}\\times \\text{seconds}\\times 2\\pi}\n",
    "    \\rightarrow\n",
    "    \\frac{2}{2\\pi\\times \\frac{1}{\\text{seconds}}\\times \\text{Joules}\\times \\text{seconds}\\times 2\\pi}\n",
    "    \\rightarrow\n",
    "    \\text{Joules}^{-1}\n",
    "\\end{gather*}\n",
    "that is, inverse Joules, so we can multiply $E$ by $\\frac{2}{\\omega \\hbar}$ to get our unitless energy.\n",
    "So we define $\\epsilon = E\\frac{2}{\\omega \\hbar}$, and we replace $E$ with $\\frac{\\epsilon \\omega \\hbar}{2}$ in Equation $(3)$:\n",
    "\\begin{gather}\\tag{4}\n",
    "    \\frac{d^2\\phi(u)}{du^2} = \\bigg(u^2 - \\frac{E2}{\\omega \\hbar}\\bigg)\\phi(u)\n",
    "    \\rightarrow\n",
    "    \\frac{d^2\\phi(u)}{du^2} = (u^2 - \\frac{\\epsilon\\omega\\hbar}{2}\\frac{2}{\\omega\\hbar})\\phi(u)\n",
    "    \\rightarrow\n",
    "    \\frac{d^2\\phi(u)}{du^2} = (u^2 - \\epsilon)\\phi(u)\n",
    "\\end{gather}"
   ]
  },
  {
   "attachments": {},
   "cell_type": "markdown",
   "metadata": {},
   "source": [
    "Now, Equation $(4)$ is significantly \"cleaner\" than Equation $(1)$.\n",
    "(Again, we could have simply started solving $(1)$, but we would have had a **lot** of symbols in our expressions, which would make it hard to read and leaves plenty of room for making mistakes.)\n",
    "\n",
    "Now let's start actually solving the linear second order variable coefficient ordinary differential equation.\n",
    "Note that as $u$ approaches $\\pm\\infty$, we have\n",
    "\\begin{gather*}\n",
    "    \\frac{d^2\\phi(u)}{du^2} = (u^2 - \\epsilon)\\phi(u) \\approx u^2\\phi(u)\n",
    "\\end{gather*}\n",
    "since $\\epsilon$ is simply a constant.\n",
    "Thus, we expect that our function will behave very similarly to the solution of\n",
    "\\begin{gather*}\\tag{5}\n",
    "    f''(x) = x^2f(x)\n",
    "\\end{gather*}\n",
    "when $x$ and $u$ are large.\n",
    "So, perhaps the solution to our equation is closely related to the  solution to Equation $(5)$."
   ]
  },
  {
   "attachments": {},
   "cell_type": "markdown",
   "metadata": {},
   "source": [
    "So let's find that solution.\n",
    "Note that $f''(x)$ is equal to some **nonconstant** multiple of $f(x)$.\n",
    "Do we know of any function with a second derivative that is equal to a multiple of itself?\n",
    "Yes we do:\n",
    "let $g(x)$ be an arbitrary function and consider:\n",
    "\\begin{gather*}\n",
    "    f(x) = e^{g(x)} \\rightarrow f' = g'(x)e^{g(x)} \\text{ (by the Chain rule)} \\\\\n",
    "    f'' = g''e^{g(x)} + g'(x)e^{g(x)}g'(x) = (g'' + (g')^2)e^{g(x)}\n",
    "\\end{gather*}\n",
    "If we can find a function $g(x)$ such that $g'' = 0$ and $(g')^2 = x^2$, then we will have found a solution to Equation $(5)$.\n",
    "Unfortunately, no such solution exists.\n",
    "If $g'' = 0$, then $g'$ must equal a (possibly nonzero) constant, not a function of $x$.\n",
    "However, if we had $g'' = \\pm 1$ instead of $0$, then we could let $g' = \\pm x$ and $g'' = \\pm \\frac{x^2}{2}$, meaning that $e^{\\pm\\frac{x^2}{2}}$\n",
    "And since $(0 + x^2) \\approx (\\pm 1 + x^2)$ for large values of $x$, then we expect an actual solution to $f'' = x^2f(x)$ to be very closely related to the solutions to $f'' = (1+x^2)f(x)$, (two of which are $f(x) = e^{\\pm\\frac{x^2}{2}}$), and in particular we expect them to have similar behavior as $x \\rightarrow \\infty$.\n",
    "Thus, we also expect the solutions of Equation $(4)$ to be very similar to $e^{\\pm \\frac{u^2}{2}}$, especially with respect to their limiting behavior as $u \\rightarrow \\pm\\infty$.\n",
    "So, we guess that the solution is a function like \n",
    "\\begin{gather}\\tag{6}\n",
    "    \\phi(u) = h(u)e^{-\\frac{u^2}{2}}\n",
    "\\end{gather}\n",
    "where $h(u)$ is a function such that $\\frac{d^2}{du^2}\\big(h(u)e^{-\\frac{u^2}{2}}\\big) \\approx u^2\\big(h(u)e^{-\\frac{u^2}{2}}\\big)$ for large $u$."
   ]
  },
  {
   "attachments": {},
   "cell_type": "markdown",
   "metadata": {},
   "source": [
    "Let's take a closer look at the first and second derivatives of $\\phi(u) = h(u)e^{-\\frac{u^2}{2}}$, to get a better idea of the properties that $h(u)$ must have:\n",
    "\\begin{gather*}\n",
    "    \\phi(u) = h(u)e^{-\\frac{u^2}{2}} \\\\\n",
    "    \\phi'(u) = h'(u)e^{-\\frac{u^2}{2}} + h(u)e^{-\\frac{u^2}{2}}(-u) \\\\\n",
    "    \\phi''(u) = h''(u)e^{-\\frac{u^2}{2}} + h'(u)e^{-\\frac{u^2}{2}}(-u) + h'(u)e^{-\\frac{u^2}{2}}(-u) + h(u)\\bigg(e^{-\\frac{u^2}{2}}(-1) + e^{-\\frac{u^2}{2}}u^2\\bigg) = \\\\\n",
    "    \\bigg(\\frac{h''(u)}{h(u)} - 2\\frac{h'(u)}{h(u)}u + u^2 - 1 \\bigg)h(u)e^{-\\frac{u^2}{2}}\n",
    "\\end{gather*}\n",
    "So, $h(u)$ must be such that the parenthesized term in the equation above is approximately equal to $u^2$ for large $u$.\n",
    "\n",
    "Note that we made the exponent of our guess (Equation $(6)$) negative and not positive.\n",
    "This is because we wish for our solution $\\psi(x)$ (which, recall, is the dimensionalized version of $\\phi(u)$) to be such that $|\\psi(x)|^2$ is a Probability Density Function, meaning that $\\psi(x)$ (and thus also $\\phi(u)$) must approach zero as $x\\rightarrow\\pm\\infty$.\n",
    "If the  exponent in our guess was positive, then it would not have this limiting behavior.\n",
    "\n",
    "Let's plug this guess for $\\phi(u)$ back into our differential equation (Equation $(4)$):\n",
    "\\begin{gather*}\n",
    "    \\frac{d^2h}{du^2}e^{-\\frac{u^2}{2}} - 2u\\frac{dh}{du}e^{-\\frac{u^2}{2}} + h(u)u^2e^{-\\frac{u^2}{2}} - h(u)e^{-\\frac{u^2}{2}} = (u^2 - \\epsilon)h(u)e^{-\\frac{u^2}{2}} \\\\\n",
    "    \\frac{d^2h}{du^2} - 2u\\frac{dh}{du} + h(u)u^2 - h(u) = (u^2 - \\epsilon)h(u) \\\\\n",
    "    \\frac{d^2h}{du^2} - 2u\\frac{dh}{du} - h(u) = -\\epsilon h(u)\n",
    "\\end{gather*}\n",
    "\n",
    "\\begin{gather}\\tag{7}\n",
    "    \\frac{d^2h}{du^2} - 2u\\frac{dh}{du} + (\\epsilon - 1)h(u) = 0\n",
    "\\end{gather}\n",
    "But this is yet another second order linear variable-coefficient ordinary differential equation:\n",
    "in the process of solving one differential equation, we have just created another.\n",
    "So how can we go about finding such a function $h(u)$?"
   ]
  },
  {
   "attachments": {},
   "cell_type": "markdown",
   "metadata": {},
   "source": [
    "Let's start  by searching for an approximation.\n",
    "We do this by assuming that $h(u)$ is analytic at $u_0 = 0$.\n",
    "That is, we have $\\sum_{n = 0}^{\\infty}\\frac{h^{(n)}(0)}{n!}u^n$, in which $h^{(n)}(0)$ denotes the $n$-th derivative of $h$ evaluated at $0$ (which is the Taylor series of $h(u)$ centered at $u_0 = 0$) converges to $h(u)$ for all $u$ in the interval\n",
    "\\begin{gather}\\tag{8}\n",
    "    (0 - \\delta, 0 + \\delta)\n",
    "\\end{gather}\n",
    "for some positive number $\\delta$.\n",
    "It can be proven that, because the Taylor series of $h(u)$ converges to $h(u)$ on Interval $(8)$, then\n",
    "\\begin{gather*}\n",
    "    h'(u) = \\sum_{n = 1}^{\\infty}n\\frac{h^{(n)}(0)}{n!}u^{n-1} \\\\\n",
    "    h''(u) = \\sum_{n = 2}^{\\infty}n(n-1)\\frac{h^{(n)}(0)}{n!}u^{n-2}\n",
    "\\end{gather*}\n",
    "for all $u$ in Interval $(8)$.\n",
    "Therefore, for $u$ in Interval $(8)$, Equation $(7)$ is equivalent to\n",
    "\\begin{gather*}\n",
    "    \\frac{d^2h}{du^2} - 2u\\frac{dh}{du} + (\\epsilon - 1)h(u) = 0 \\\\\n",
    "    \\bigg(\\sum_{n = 2}^{\\infty}n(n-1)\\frac{h^{(n)}(0)}{n!}u^{n-2}\\bigg) -\n",
    "    2u\\bigg(\\sum_{n = 1}^{\\infty}n\\frac{h^{(n)}(0)}{n!}u^{n-1}\\bigg) +\n",
    "    (\\epsilon - 1)\\bigg(\\sum_{n = 0}^{\\infty}\\frac{h^{(n)}(0)}{n!}u^n\\bigg) = 0\n",
    "\\end{gather*}\n",
    "To simplify this, let  $a_n = \\frac{h^{(n)}(0)}{n!}$:\n",
    "\\begin{gather*}\n",
    "    \\bigg(\\sum_{n = 2}^{\\infty}n(n-1)a_n u^{n-2}\\bigg) -\n",
    "    2u\\bigg(\\sum_{n = 1}^{\\infty}n a_n u^{n-1}\\bigg) +\n",
    "    (\\epsilon - 1)\\bigg(\\sum_{n = 0}^{\\infty}a_n u^n\\bigg) = 0\n",
    "\\end{gather*}\n",
    "And now we perform a slight change of variables on the indices in our summations:\n",
    "(note that we use $i$ as an (integer) index number, not as the imaginary number)\n",
    "\\begin{gather*}\n",
    "    \\bigg(\\sum_{i = 0}^{\\infty}(i + 2)(i + 1)a_{i+2} u^{i}\\bigg) -\n",
    "    2u\\bigg(\\sum_{i = 0}^{\\infty}(i+2)a_{i+1} u^{i}\\bigg) +\n",
    "    (\\epsilon - 1)\\bigg(\\sum_{i = 0}^{\\infty}a_i u^i\\bigg) = 0 \\\\\n",
    "    \\bigg(\\sum_{i = 0}^{\\infty}(i + 2)(i + 1)a_{i+2} u^{i}\\bigg) -\n",
    "    2\\bigg(\\sum_{i = 0}^{\\infty}(i+2)a_{i+1} u^{i+1}\\bigg) +\n",
    "    (\\epsilon - 1)\\bigg(\\sum_{i = 0}^{\\infty}a_i u^i\\bigg) = 0\n",
    "\\end{gather*}\n",
    "\n",
    "\\begin{gather}\\tag{9}\n",
    "    \\bigg(\n",
    "        (2)(1)a_2u^0 + (3)(2)a_3u^1 + (4)(3)a_4u^2 + (5)(4)a_5u^3 + \\dots\n",
    "    \\bigg)\n",
    "    -2\\bigg(\n",
    "        (1)a_1u^1 + (2)a_2u^2 + (3)a_3u^3 + \\dots    \n",
    "    \\bigg)\n",
    "    +(\\epsilon - 1)\\bigg(\n",
    "        a_0u^0 + a_1u_1 + a_2u^2 + a_3u^3 + \\dots\n",
    "    \\bigg) = 0\n",
    "\\end{gather}\n",
    "This must be true for all $u$ in Interval $(8)$.\n",
    "But note that the expression on the left of $9$ is simply a polynomial.\n",
    "Thus, in order for $(9)$ to hold for all $u$ in said interval, the coefficient of each term of the polynomial must equal zero.\n",
    "Therefore, for the coefficient of the $u^i$ term in the polynomial on the left side of $(9)$, (which is:\n",
    "\\begin{gather*}\n",
    "    (i+2)(i+1)a_{i+2} - 2(i)a_i + (\\epsilon - 1)a_i = \n",
    "    (i+2)(i+1)a_{i+2} + (-2i + \\epsilon - 1)a_i\n",
    "\\end{gather*}\n",
    "for $n > 0$) we must have:\n",
    "\\begin{gather*}\n",
    "    (i+2)(i+1)a_{i+2} + (-2i + \\epsilon - 1)a_i = 0\n",
    "\\end{gather*}\n",
    "\n",
    "\\begin{gather}\\tag{10}\n",
    "    a_{i+2} = \\frac{(2i - \\epsilon + 1)a_i}{(i+2)(i+1)}\n",
    "\\end{gather}\n",
    "\n",
    "Note that this relates the coefficients of terms of odd degree to one another, and the coefficients of terms of even degree to one another.\n",
    "To get an idea of what the existence of this relation implies for the behavior of $h$, let's consider the limit of $a_{i+2}$ as $i\\rightarrow \\infty$:\n",
    "\\begin{gather*}\n",
    "    \\lim_{i\\rightarrow \\infty}a_{i+2} \\approx \\frac{2i}{i^2}a_i = \\frac{2}{i}a_i\n",
    "\\end{gather*}\n",
    "So, for some particular (but very large) $j$, we can write\n",
    "\\begin{gather*}\n",
    "    a_{j+2} = \\frac{2}{j}a_j \\approx \\frac{2}{j}\\bigg(\\frac{2}{j-2}a_{j-2}\\bigg) \\approx \n",
    "    \\frac{2}{j}\\frac{2}{j-2}\\bigg(\\frac{2}{j-4}a_{j-4}\\bigg) \\approx \\dots\n",
    "\\end{gather*}\n",
    "and we can continue to repeat this approximating process repeatedly until we have expressed $a_{j+2}$ in terms of either $a_1$ or $a_0$ (depending on whether $j$ is odd or even, respectively.)\n",
    "In either case, we can let $a_*$ denote either $a_0$ or $a_1$ as necessary, and then write\n",
    "\\begin{gather*}\n",
    "    a_{j+2} \\approx \\bigg(\\frac{2}{j}\\bigg)\\bigg(\\frac{2}{j-2}\\bigg)\\bigg(\\frac{2}{j-4}\\bigg)\\times \\dots \\times a_* \\approx\n",
    "    \\frac{a_*}{\\big(\\frac{j}{2}\\big)!}\n",
    "\\end{gather*}"
   ]
  },
  {
   "attachments": {},
   "cell_type": "markdown",
   "metadata": {},
   "source": [
    "Therefore, we can write the following as an approximation of the Taylor series of $h(u)$:\n",
    "\\begin{gather*}\n",
    "    h(u)\\approx a_*\\sum_{i = 2}^{\\infty}\\frac{u^{i-2}}{\\big(\\frac{i-2}{2}\\big)!}\n",
    "\\end{gather*}\n",
    "By letting $(i-2) = 2n$, we have:\n",
    "\\begin{gather*}\n",
    "    h(u)\\approx a_*\\sum_{i = 0}^{\\infty}\\frac{u^{i-2}}{\\big(\\frac{i-2}{2}\\big)!} \\approx a_*\\sum_{n = 2}^{\\infty}\\frac{u^{2n}}{n!} =\n",
    "    a_*\\sum_{n = 0}^{\\infty}\\frac{(u^2)^n}{n!}\n",
    "\\end{gather*}\n",
    "However, recall that the Taylor series of $e^x$ centered at $0$ converges to $e^x$ everywhere, and that the Taylor series of $e^x$ centered at $0$ is given by\n",
    "\\begin{gather*}\n",
    "    e^x = \\sum_{n = 0}^{\\infty}\\frac{x^n}{n!}\n",
    "\\end{gather*}\n",
    "Thus, we  have that\n",
    "\\begin{gather*}\n",
    "    h(u) \\approx a_*\\sum_{n = 0}^{\\infty}\\frac{(u^2)^n}{n!} = e^{(u^2)}\n",
    "\\end{gather*}\n",
    "However, this implies that\n",
    "\\begin{gather*}\n",
    "    \\phi(u) = h(u)e^{-\\frac{u^2}{2}} \\approx a_* e^{(u^2)}e^{-\\frac{u^2}{2}} = a_* e^{\\frac{u^2}{2}}\n",
    "\\end{gather*}\n",
    "But this means that $\\phi(u)$ approaches $\\pm \\infty$ as $u$ approaches $\\pm \\infty$, which violates the requirement that $|\\psi(x)|^2$, where $\\psi(x)$ is the dimensionalized equivalent of $\\phi(u)$, must be a probability density function.\n",
    "So, if a solution of the form $\\phi(u) = h(u)e^{\\frac{u^2}{2}}$ exists, then the coefficients of the terms of the Taylor series of $h$ centered at $u = 0$ **must** satisfy Equation $(10)$.\n",
    "However, unless the sequence of these coefficients has only finitely many nonzero coefficients (meaning that $h(u)$ can be written as a polynomial) then $\\phi(u)$ does nto approach zero as $u \\rightarrow \\pm \\infty$ (meaning $|\\psi(x)|^2$ could not possibly be a probability density function).\n",
    "Thus, said sequence must have only finitely many nonzero coefficients.\n",
    "This implies that there exists some $n$ such that $a_n \\neq 0$, but for all $j > n$, $a_j = 0$.\n",
    "But recall Equation $(10)$, which requires that\n",
    "\\begin{gather*}\n",
    "    a_{n+2} = \\frac{(2n - \\epsilon + 1)}{(n+2)(n+1)}a_n\n",
    "\\end{gather*}\n",
    "We must have $a_{n+2} = 0$, but we know that $a_n \\neq 0$.\n",
    "Thus we must have\n",
    "\\begin{gather*}\n",
    "    (2n - \\epsilon + 1) = 0 \\\\\n",
    "    2n = \\epsilon - 1 \\\\\n",
    "    n = \\frac{\\epsilon - 1}{2}\n",
    "\\end{gather*}\n",
    "But recall that we defined $\\epsilon = E\\frac{2}{\\omega \\hbar}$.\n",
    "This implies that\n",
    "\\begin{gather*}\n",
    "    n = \\frac{\\epsilon - 1}{2} \\rightarrow \n",
    "    n = \\frac{E\\frac{2}{\\omega\\hbar} - 1}{2} \\rightarrow\n",
    "    2n = E\\frac{2}{\\omega\\hbar} - 1 \\rightarrow\n",
    "    \\frac{(2n + 1)\\omega\\hbar}{2} = E\n",
    "\\end{gather*}\n",
    "Note that $n$ must always be a nonnegative integer, since it corresponds to the degree of a polynomial.\n",
    "Thus we see that the energy levels of the system **must** be quantized (as we expect in a quantum system) and the $n$th energy level has energy $\\frac{(2n+1)\\omega\\hbar}{2}$.\n",
    "Additionally, we also see that, for each energy level, the degree of $h(u)$ is different, and thus the solution $\\phi(u)$ is different.\n",
    "But recall that Equation $(10)$ describes a relation between **every other** coefficient of the terms of the Taylor series of $h$ centered at $0$.\n",
    "So if $n$ is odd, then we know $a_n$ must be nonzero but $a_j = 0$ for all $j > 0$.\n",
    "In addition to implying that $a_{n+2}$ must be zero, this also implies that $a_{n+1}$ must be zero.\n",
    "Therefore we have:\n",
    "\\begin{gather*}\n",
    "    a_{n+1} = \\frac{2(n-1)-\\epsilon+1}{(n+1)(n)}a_{n-1} = 0\n",
    "\\end{gather*}\n",
    "But because $(2n - \\epsilon + 1) = 0$, then $(2(n-1)-\\epsilon + 1)$ cannot equal zero.\n",
    "Thus, $a_{n-1}$ must equal zero.\n",
    "In turn, this implies that $a_{n-3}, a_{n-5}$ and so on must all equal zero.\n",
    "So if $n$ is even, then all of the coefficients of the terms in the Taylor series that are of odd degree are zero, and if $n$ is odd, then the same is true of all of the coefficients of the terms of even degree.\n",
    "Thus, on Interval $(8)$, we have that $h(u)$ is a polynomial, and that when the energy of the  system is $\\frac{(2n+1)\\omega\\hbar}{2} = E$ for some particular even integer $n$, then $h(u)$ has even degree, and when $n$ is odd, then $h(u)$ has odd degree.\n",
    "Therefore, the corresponding function $h_n(x)$ for the solution for a particular energy level is given by:\n",
    "\\begin{gather*}\n",
    "    h_n(u) = a_nu^n + a_{n-2}u^{n-2} + \\dots\n",
    "\\end{gather*}\n",
    "At this point, we have a pretty good understanding of the solution to Equation $(4)$.\n",
    "We know that, for the $n$th energy level, it is of the form\n",
    "\\begin{gather*}\n",
    "    \\phi(u) = h_n(u)e^{-\\frac{u^2}{2}}\n",
    "\\end{gather*}\n",
    "where $h_n(u)$ is a degree $n$ polynomial that is odd if $n$ is odd and even if $n$ is even, and has coefficients that satisfy Equation $(10)$."
   ]
  },
  {
   "attachments": {},
   "cell_type": "markdown",
   "metadata": {},
   "source": [
    "Now let's use Equation $(10)$, our recurrence relation, to find $h_n(u)$ for some specific energy level, $n$.\n",
    "Recall that $\\epsilon = \\frac{2E}{\\hbar \\omega}$, and for the $n$th energy level, $E_n = \\hbar(n + \\frac{1}{2})\\omega$.\n",
    "Therefore we have $\\epsilon_n = \\frac{2}{\\hbar\\omega}\\hbar(n + \\frac{1}{2})\\omega = 2(n+\\frac{1}{2})$, and therefore the coefficients for $h_n$ are related by the  expression\n",
    "\\begin{gather*}\n",
    "    a_{i+2} = \\frac{(2i - 2(n+\\frac{1}{2})+1)a_i}{(i+2)(i+1)}\n",
    "\\end{gather*}\n",
    "Then, we write all of our coefficients in terms of $a_0$ (if $n$ is even) or $a_1$ (if $n$ is odd.)\n",
    "Then, we create the corresponding polynomial using these coefficients, and multiply the result by $e^{-\\frac{u^2}{2}}$.\n",
    "The code below does this.\n",
    "You can change the value of the `energy_level` variable (which must be an integer) to choose the energy level for which $h$ will be found.\n",
    "(Note that for energy levels higher than 4, integrating $\\phi(u)$ can take several minutes or more.)"
   ]
  },
  {
   "cell_type": "code",
   "execution_count": 27,
   "metadata": {},
   "outputs": [],
   "source": [
    "from sympy import exp, Rational\n",
    "\n",
    "energy_level: int = 4\n",
    "\n",
    "u = Symbol('u', real=True)\n",
    "coefficients = []\n",
    "energy_level_even = False\n",
    "if energy_level % 2 == 0:\n",
    "    energy_level_even = True\n",
    "\n",
    "lowest_order_coef = None\n",
    "if energy_level_even:\n",
    "    coefficients.append(Symbol('a_0'))\n",
    "    coefficients.append(0)\n",
    "else:\n",
    "    coefficients.append(0)\n",
    "    coefficients.append(Symbol('a_1'))\n",
    "\n",
    "for index in range(2, energy_level+1):\n",
    "    # Recall that if the energy level is odd, then only the odd terms\n",
    "    # have nonzero coefficients. If the energy level is even, then only\n",
    "    # the even terms have nonzero coefficients.\n",
    "    if (energy_level % 2 == 0 and index % 2 == 0) or (energy_level % 2 == 1 and\n",
    "    index % 2 == 1):\n",
    "        i_m_2 = index-2\n",
    "        coefficients.append(\n",
    "            (2*i_m_2 - 2*(energy_level+Rational(1, 2)) + 1) *\n",
    "            coefficients[i_m_2] / ((i_m_2 + 2)*(i_m_2 + 1))\n",
    "        )\n",
    "    else:\n",
    "        coefficients.append(0)\n",
    "\n",
    "# Now we add up terms with the coefficients that we just created, in\n",
    "# order to get h_n\n",
    "h_n = 0\n",
    "for index in range(energy_level+1):\n",
    "    h_n =  h_n + coefficients[index] * u**index\n",
    "\n",
    "phi_expr = h_n * exp(-u**2 / 2)"
   ]
  },
  {
   "cell_type": "code",
   "execution_count": 28,
   "metadata": {},
   "outputs": [
    {
     "data": {
      "text/latex": [
       "$\\displaystyle \\left(\\frac{4 a_{0} u^{4}}{3} - 4 a_{0} u^{2} + a_{0}\\right) e^{- \\frac{u^{2}}{2}}$"
      ],
      "text/plain": [
       "(4*a_0*u**4/3 - 4*a_0*u**2 + a_0)*exp(-u**2/2)"
      ]
     },
     "execution_count": 28,
     "metadata": {},
     "output_type": "execute_result"
    }
   ],
   "source": [
    "phi_expr"
   ]
  },
  {
   "attachments": {},
   "cell_type": "markdown",
   "metadata": {},
   "source": [
    "Now we have a form of our solution $\\phi(u)$ for the $n$th energy level in terms of $u$, our unitless length scale, and some constant $a_0$.\n",
    "At this point, we could perform substitution using our definition $u = \\frac{(x - x_0)}{\\alpha}$ to obtain **a** solution to this equation, but that wouldn't be **the particular** solution that we are searching for.\n",
    "Recall that we wish for our solution, when written in terms of $x$, (which is length in meters) to be such that $\\int_{-\\infty}^{\\infty}|\\psi(x)|^2dx = 1$ (since we wish for $|\\psi(x)|^2$ to be a probability density function.)\n",
    "To do this, we need to somehow obtain a solution $\\psi_1(x)$ using what we already have, then find the antiderivative of $|\\psi_1(x)|^2$ with respect to $x$, and then use this antiderivative to compute $\\int_{-\\infty}^{\\infty}|\\psi_1(x)|^2dx$.\n",
    "\n",
    "Then we create a new solution $\\psi_2(x)$ by dividing $\\psi_1(x)$ by  the square root of the previously computed integral $\\int_{-\\infty}^{\\infty}|\\psi_1(x)|^2dx$.\n",
    "Therefore $\\psi_2(x)$ is such that $\\int_{-\\infty}^{\\infty}|\\psi_2(x)|^2dx = 1$.\n",
    "And since $\\psi_1(x)$ is $\\phi(u)$ but written in terms of $x$ instead of $u$, and since $\\psi_2(x)$ is a constant multiple of $\\psi_1(x)$, then $\\psi_2(x)$ is also a valid solution to the differential equation we set out to solve, and thus it is the solution we are searching for.\n",
    "\n",
    "But how do we go about finding $\\psi_1(x)$ and then $\\int_{-\\infty}^{\\infty}|\\psi_1(x)|^2dx$?\n",
    "We could perform substitution on $\\phi(u)$ and integrate the result, but the resulting integral would be very difficult and time consuming to solve, even for SymPy.\n",
    "So instead, first we find the antiderivative of $\\phi(u)$ in terms of $u$.\n",
    "We do this in the cells below:"
   ]
  },
  {
   "cell_type": "code",
   "execution_count": 35,
   "metadata": {},
   "outputs": [
    {
     "data": {
      "text/latex": [
       "$\\displaystyle \\frac{\\left(4 u^{4} - 12 u^{2} + 3\\right) e^{- \\frac{u^{2}}{2}}}{3}$"
      ],
      "text/plain": [
       "(4*u**4 - 12*u**2 + 3)*exp(-u**2/2)/3"
      ]
     },
     "execution_count": 35,
     "metadata": {},
     "output_type": "execute_result"
    }
   ],
   "source": [
    "# First, we are going to factor out the first coefficient. (Remember \n",
    "# that all other nonzero coefficients are a multiple of the first \n",
    "# coefficient.) This is because the coefficient might be complex. If it \n",
    "# is, then the squared magnitude of phi_expr isn't necessarily equal to \n",
    "# phi_expr**2. However, if we factor out this possibly complex \n",
    "# coefficient, then what is left over is a function with a range in the \n",
    "# real numbers. So when we integrate, we can move the squared magnitude \n",
    "# of the factored-out constant out of integral since it is just a \n",
    "# constant, and then replace |factored_phi_expr|**2 with just \n",
    "# factored_phi_expr**2, since the square of any real number is equal to \n",
    "# its squared magnitude.\n",
    "if energy_level_even:\n",
    "    factored_out_coefficient = coefficients[0]\n",
    "else:\n",
    "    factored_out_coefficient = coefficients[1]\n",
    "\n",
    "factored_phi_expr = simplify(phi_expr/factored_out_coefficient)\n",
    "factored_phi_expr\n"
   ]
  },
  {
   "cell_type": "code",
   "execution_count": 39,
   "metadata": {},
   "outputs": [],
   "source": [
    "phi_expr_antideriv_mag_sq = abs(factored_out_coefficient)**2 * \\\n",
    "    integrate(factored_phi_expr**2, u)\n"
   ]
  },
  {
   "cell_type": "code",
   "execution_count": 40,
   "metadata": {},
   "outputs": [
    {
     "data": {
      "text/latex": [
       "$\\displaystyle \\left(- \\frac{8 u^{7} e^{- u^{2}}}{9} + \\frac{20 u^{5} e^{- u^{2}}}{9} - \\frac{34 u^{3} e^{- u^{2}}}{9} - \\frac{5 u e^{- u^{2}}}{3} + \\frac{4 \\sqrt{\\pi} \\operatorname{erf}{\\left(u \\right)}}{3}\\right) \\left|{a_{0}}\\right|^{2}$"
      ],
      "text/plain": [
       "(-8*u**7*exp(-u**2)/9 + 20*u**5*exp(-u**2)/9 - 34*u**3*exp(-u**2)/9 - 5*u*exp(-u**2)/3 + 4*sqrt(pi)*erf(u)/3)*Abs(a_0)**2"
      ]
     },
     "execution_count": 40,
     "metadata": {},
     "output_type": "execute_result"
    }
   ],
   "source": [
    "phi_expr_antideriv_mag_sq"
   ]
  },
  {
   "attachments": {},
   "cell_type": "markdown",
   "metadata": {},
   "source": [
    "Now we have the antiderivative of $\\phi(u)$, and we must rewrite it in terms of $x$.\n",
    "We may be tempted to just perform substitution using $\\frac{(x-x_0)}{\\alpha}$, but this doesn't give us the correct result.\n",
    "For example, suppose we let $u = 3x$, and we write the functions\n",
    "\\begin{gather*}\n",
    "    f(x) = (3x)^4 \\hspace{10mm} g(u) = u^4\n",
    "\\end{gather*}\n",
    "and then we integrate $f(x)$ with respect to $x$ and $g(u)$ with respect to $u$:\n",
    "\\begin{gather*}\n",
    "    \\int f(x)dx = \\int (3x)^4dx = \\frac{(3x)^5}{5}\\frac{1}{3} + C_1 = \\frac{(3x)^5}{15} + C_1 \\\\\n",
    "    \\int g(u)du = \\int u^4 du = \\frac{u^5}{5} + C_2 \\\\\n",
    "    \\frac{u^5}{5} \\rightarrow \\frac{(3x)^5}{5} \\neq \\frac{(3x)^5}{15}\n",
    "\\end{gather*}\n",
    "If we tried to find the antiderivative of $f$ with respect to $x$ by finding the antiderivative of $g$ with respect to $u$ and then performing substitution, we would be off by a factor of $(3)^{-1}$, which is the inverse of the derivative of $u$ with respect to $x$.\n",
    "Thus, to find the antiderivative of $|\\psi_1(x)|^2$ with respect to $x$, we perform substitution on the antiderivative of $|\\phi(u)|^2$ with respect to $u$, and then multiply the result by the inverse of $\\frac{du}{dx}$, which is:\n",
    "\\begin{gather*}\n",
    "    u = \\frac{(x - x_0)}{\\alpha} \\rightarrow \\frac{du}{dx} = \\frac{1}{\\alpha} \\rightarrow \\bigg(\\frac{du}{dx}\\bigg)^{-1} = \\alpha\n",
    "\\end{gather*}\n",
    "We do this in the cells below:"
   ]
  },
  {
   "cell_type": "code",
   "execution_count": 53,
   "metadata": {},
   "outputs": [],
   "source": [
    "alpha = Symbol('alpha', positive=True) #sqrt(hbar / (omega * m))\n",
    "u_expr = (x-x0)/(alpha)\n",
    "psi_expr_antideriv_mag_sq = phi_expr_antideriv_mag_sq.subs(u, u_expr) * alpha"
   ]
  },
  {
   "cell_type": "code",
   "execution_count": 54,
   "metadata": {},
   "outputs": [
    {
     "data": {
      "text/latex": [
       "$\\displaystyle \\alpha \\left(\\frac{4 \\sqrt{\\pi} \\operatorname{erf}{\\left(\\frac{x - x_{0}}{\\alpha} \\right)}}{3} - \\frac{5 \\left(x - x_{0}\\right) e^{- \\frac{\\left(x - x_{0}\\right)^{2}}{\\alpha^{2}}}}{3 \\alpha} - \\frac{34 \\left(x - x_{0}\\right)^{3} e^{- \\frac{\\left(x - x_{0}\\right)^{2}}{\\alpha^{2}}}}{9 \\alpha^{3}} + \\frac{20 \\left(x - x_{0}\\right)^{5} e^{- \\frac{\\left(x - x_{0}\\right)^{2}}{\\alpha^{2}}}}{9 \\alpha^{5}} - \\frac{8 \\left(x - x_{0}\\right)^{7} e^{- \\frac{\\left(x - x_{0}\\right)^{2}}{\\alpha^{2}}}}{9 \\alpha^{7}}\\right) \\left|{a_{0}}\\right|^{2}$"
      ],
      "text/plain": [
       "alpha*(4*sqrt(pi)*erf((x - x_0)/alpha)/3 - 5*(x - x_0)*exp(-(x - x_0)**2/alpha**2)/(3*alpha) - 34*(x - x_0)**3*exp(-(x - x_0)**2/alpha**2)/(9*alpha**3) + 20*(x - x_0)**5*exp(-(x - x_0)**2/alpha**2)/(9*alpha**5) - 8*(x - x_0)**7*exp(-(x - x_0)**2/alpha**2)/(9*alpha**7))*Abs(a_0)**2"
      ]
     },
     "execution_count": 54,
     "metadata": {},
     "output_type": "execute_result"
    }
   ],
   "source": [
    "psi_expr_antideriv_mag_sq"
   ]
  },
  {
   "attachments": {},
   "cell_type": "markdown",
   "metadata": {},
   "source": [
    "Now we use this antiderivative to evaluate $\\int_{-\\infty}^{\\infty}|\\psi_1(x)|^2dx$.\n",
    "The code below does this:"
   ]
  },
  {
   "cell_type": "code",
   "execution_count": 55,
   "metadata": {},
   "outputs": [
    {
     "data": {
      "text/latex": [
       "$\\displaystyle \\frac{8 \\sqrt{\\pi} \\alpha \\left|{a_{0}}\\right|^{2}}{3}$"
      ],
      "text/plain": [
       "8*sqrt(pi)*alpha*Abs(a_0)**2/3"
      ]
     },
     "execution_count": 55,
     "metadata": {},
     "output_type": "execute_result"
    }
   ],
   "source": [
    "from sympy import limit, oo\n",
    "integration_result = limit(psi_expr_antideriv_mag_sq, x, oo) - limit(psi_expr_antideriv_mag_sq, x, -oo)\n",
    "integration_result"
   ]
  },
  {
   "attachments": {},
   "cell_type": "markdown",
   "metadata": {},
   "source": [
    "Now, we have everything we need to find $\\psi_2(x)$.\n",
    "We first write $\\psi_1(x)$ by performing substitution on $\\phi(u)$ using $u = \\frac{(x-x_0)}{\\alpha}$, and then we find $\\psi_2(x)$ dividing $\\psi_1(x)$ by the square root of the value of the integral that we just computed.\n",
    "Now, we are done!"
   ]
  },
  {
   "attachments": {},
   "cell_type": "markdown",
   "metadata": {},
   "source": [
    "Note that there is still one free variable in our solution ($a_0$ if $n$ is even, $a_1$ if $n$ is odd.)\n",
    "But our normalization factor is such that we can allow this free coefficient to be any nonzero (possibly complex) value, and we will still have $\\int_{-\\infty}^{\\infty}|\\psi_2(x)|^2dx = 1$.\n",
    "Note that our solutions (in terms of the unitless length scale $u$) are of the form\n",
    "\\begin{gather*}\n",
    "    \\phi(u) = C\\times P(u) \\times e^{-\\frac{u^2}{2}}\n",
    "\\end{gather*}\n",
    "It turns out that the $n$th [physicist's Hermite polynomial](https://en.wikipedia.org/wiki/Hermite_polynomials#Hermite_functions) satisfies all of the conditions placed on the polynomial $P(u)$ when solving for the $n$th energy level, and that when we use this polynomial, the normalizing coefficient has a very neat form:\n",
    "\\begin{gather*}\n",
    "    C = \\bigg(\\frac{\\alpha^2}{\\pi}\\bigg)^{\\frac{1}{4}}\\frac{1}{\\sqrt{2^n n!}}\n",
    "\\end{gather*}\n",
    "And so for the $n$th energy level, we can write a corresponding solution $\\phi(u)$ in terms of $u$ as:\n",
    "\\begin{gather*}\n",
    "    \\phi_n(u) = \\bigg(\\frac{\\alpha^2}{\\pi}\\bigg)^\\frac{1}{4}\\frac{1}{\\sqrt{2^n n!}}H_n(u)e^{-\\frac{u^2}{2}}\n",
    "\\end{gather*}\n",
    "where $H_n(u)$ is the $n$th physicist's Hermite polynomial.\n",
    "If you don't believe that this works, try it yourself.\n",
    "See that the $n$th physicist's Hermite polynomial is of degree $n$, and that it is even if $n$ is even and odd if $n$ is odd.\n",
    "Additionally, see that its coefficients satisfy the recurrence relation $(10)$.\n",
    "Also see that when we evaluate $\\int_{-\\infty}^{\\infty}|\\psi_1(x)|^2dx$, the required normalization factor is $\\big(\\frac{\\alpha^2}{\\pi}\\big)^\\frac{1}{4}\\frac{1}{\\sqrt{2^n n!}}$, where $\\alpha = \\sqrt{\\frac{\\hbar}{\\omega m}}$."
   ]
  },
  {
   "attachments": {},
   "cell_type": "markdown",
   "metadata": {},
   "source": [
    "## Plotting Analytical Solution\n",
    "\n",
    "Now that we have found our solution, let's plot it.\n",
    "The code below plots the solution $\\psi_n(x)$ for each energy level in the `energy_levels` list, on the interval `[interval_start, interval_end]` at a number of equally spaced points specified by `number_of_eval_points`, for a particle/quantum harmonic oscillator with \"spring constant\" specified by the value of `k` and a mass (in kilograms) specified by the value of `mass`, which has zero potential energy when at the point specified by the value of `x_0`.\n",
    "It also plots the squared magnitude of each such solution: $|\\psi_n(x)|^2$.\n",
    "Finally, in both of these plots, the graphs of the solutions for each particular energy level are shifted vertically by the amount of energy (in Joules) that the system posesses at that energy level."
   ]
  },
  {
   "cell_type": "code",
   "execution_count": 28,
   "metadata": {},
   "outputs": [],
   "source": [
    "# The Energy levels for which to plot the solution, which must be\n",
    "# nonnegative integers\n",
    "energy_levels = [0, 1, 2, 3, ]\n",
    "# Mass of the particle, in kilograms (chosen to adequately seperate\n",
    "# curves in graph)\n",
    "mass = 1e-68\n",
    "# The \"spring constant\" in the potential energy function for the\n",
    "# particle\n",
    "k = 1\n",
    "# The x-coordinate of the point at which the particle has zero potential\n",
    "# energy\n",
    "x_0 = 0\n",
    "\n",
    "# The upper and lower bounds of the interval on which the solution will\n",
    "# be evaluated and then plotted\n",
    "interval_start = -3\n",
    "interval_end = 3\n",
    "\n",
    "# The number of discrete points at which the analytical solution will be\n",
    "# evaluated and then plotted\n",
    "number_of_eval_points = (interval_end - interval_start) * 10\n",
    "eval_points = np.linspace(interval_start, interval_end, number_of_eval_points)\n",
    "\n",
    "# Reduced Planck Constant, in Joule seconds\n",
    "hbar = 1.054_571_817e-34"
   ]
  },
  {
   "cell_type": "code",
   "execution_count": 29,
   "metadata": {},
   "outputs": [],
   "source": [
    "import matplotlib.pyplot as plt\n",
    "import numpy as np\n",
    "from sympy import exp, integrate, lambdify, limit, oo, Rational, simplify, \\\n",
    "    sqrt, Symbol, symbols\n",
    "\n",
    "# The contents of these functions are essentially copied and pasted from\n",
    "# the Analytical Solution section. If you would like an explanation of\n",
    "# why it does what it does, read that section.\n",
    "\n",
    "\n",
    "def create_nonnormalized_dimensionless_soln(energy_level: int,\n",
    "                                            first_coef_def_pos: bool,\n",
    "                                            u: Symbol):\n",
    "    coefficients = []\n",
    "    energy_level_even = False\n",
    "    if energy_level % 2 == 0:\n",
    "        energy_level_even = True\n",
    "    lowest_order_coef = None\n",
    "    # If the first coefficient is definitely positive, then we can\n",
    "    # simplify the expression nicely so it doesn't include the first\n",
    "    # coefficient.\n",
    "    if first_coef_def_pos:\n",
    "        first_coef_pos = True\n",
    "    else:\n",
    "        first_coef_pos = None\n",
    "    if energy_level_even:\n",
    "        coefficients.append(Symbol('a_0', positive=first_coef_pos))\n",
    "        coefficients.append(0)\n",
    "    else:\n",
    "        coefficients.append(0)\n",
    "        coefficients.append(Symbol('a_1', positive=first_coef_pos))\n",
    "    for index in range(2, energy_level+1):\n",
    "        if (energy_level % 2 == 0 and index % 2 == 0) or (energy_level % 2 == 1\n",
    "                                                          and index % 2 == 1):\n",
    "            i_m_2 = index-2\n",
    "            coefficients.append(\n",
    "                (2*i_m_2 - 2*(energy_level+Rational(1, 2)) + 1) *\n",
    "                coefficients[i_m_2] / ((i_m_2 + 2)*(i_m_2 + 1))\n",
    "            )\n",
    "        else:\n",
    "            coefficients.append(0)\n",
    "    h_n = 0\n",
    "    for index in range(energy_level+1):\n",
    "        h_n = h_n + coefficients[index] * u**index\n",
    "    return h_n * exp(-u**2 / 2), coefficients\n",
    "\n",
    "\n",
    "def create_normalized_solution(energy_level: int, first_coef_def_pos: bool):\n",
    "    u = Symbol('u')\n",
    "    nn_d_s, coefs = create_nonnormalized_dimensionless_soln(\n",
    "        energy_level=energy_level, first_coef_def_pos=first_coef_def_pos, u=u)\n",
    "    energy_level_even = False\n",
    "    if energy_level % 2 == 0:\n",
    "        energy_level_even = True\n",
    "    if energy_level_even:\n",
    "        factored_out_coefficient = coefs[0]\n",
    "    else:\n",
    "        factored_out_coefficient = coefs[1]\n",
    "    factored_nnds = simplify(nn_d_s/factored_out_coefficient)\n",
    "    nnds_antideriv_mag_sq = abs(factored_out_coefficient)**2 * \\\n",
    "        integrate(factored_nnds**2, u)\n",
    "    alpha = Symbol('alpha', positive=True)\n",
    "    x, x_0_symb = symbols('x x_0')\n",
    "    u_expr = (x-x_0_symb)/(alpha)\n",
    "    # nonnormalized (with dimension) solution antiderivitive magnitude\n",
    "    # squared\n",
    "    nns_antideriv_mag_sq = nnds_antideriv_mag_sq.subs(u, u_expr) * alpha\n",
    "    norm_factor = sqrt(limit(nns_antideriv_mag_sq, x, oo) -\n",
    "                       limit(nns_antideriv_mag_sq, x, -oo))\n",
    "    normalized_solution = nn_d_s.subs(u, u_expr) / norm_factor\n",
    "    return normalized_solution, x, x_0_symb, alpha\n"
   ]
  },
  {
   "cell_type": "code",
   "execution_count": 30,
   "metadata": {},
   "outputs": [],
   "source": [
    "# A dictionary mapping energy level numbers to the corresponding\n",
    "# solutions evaluated on the given interval at the given number of\n",
    "# points\n",
    "solution_vals = dict()\n",
    "# A dictionary mapping energy level numebers to the squared magnitude of\n",
    "# the corresponding solutions. Created by squaring the magnitude of the\n",
    "# values in solution_vals\n",
    "solution_magnitude_squared_vals = dict()\n",
    "# A dictionary mapping energy level numbers to the amount of energy (in Joules)\n",
    "# that the system has when it is in that energy level.\n",
    "energies = dict()\n",
    "\n",
    "for e_lvl in energy_levels:\n",
    "    soln_and_vars = create_normalized_solution(\n",
    "        energy_level=e_lvl, first_coef_def_pos=True)\n",
    "    soln = soln_and_vars[0].subs({\n",
    "        soln_and_vars[3]: sqrt(hbar/(mass*sqrt(k/mass))),\n",
    "        soln_and_vars[2]: x_0,\n",
    "    })\n",
    "    lambdified_soln = lambdify([soln_and_vars[1]], soln, 'numpy')\n",
    "    solution_vals[e_lvl] = lambdified_soln(eval_points)\n",
    "    # Magnitude squared equals value squared, since values are real\n",
    "    solution_magnitude_squared_vals[e_lvl] = np.square(solution_vals[e_lvl])\n",
    "    energies[e_lvl] = hbar*sqrt(k/mass)*(e_lvl + 0.5)\n",
    "    "
   ]
  },
  {
   "cell_type": "code",
   "execution_count": 31,
   "metadata": {},
   "outputs": [
    {
     "data": {
      "image/png": "[encoded data removed]",
      "text/plain": [
       "<Figure size 640x480 with 1 Axes>"
      ]
     },
     "metadata": {},
     "output_type": "display_data"
    },
    {
     "data": {
      "text/plain": [
       "<matplotlib.legend.Legend at 0x118085e10>"
      ]
     },
     "execution_count": 31,
     "metadata": {},
     "output_type": "execute_result"
    },
    {
     "data": {
      "image/png": "[encoded data removed]",
      "text/plain": [
       "<Figure size 640x480 with 1 Axes>"
      ]
     },
     "metadata": {},
     "output_type": "display_data"
    }
   ],
   "source": [
    "for e_lvl in energy_levels:\n",
    "    plt.plot(eval_points, solution_vals[e_lvl] +\n",
    "             energies[e_lvl], label='n = ' + str(e_lvl))\n",
    "    plt.axhline(y=energies[e_lvl], linestyle='dashed')\n",
    "plt.xlabel('x (Position)')\n",
    "plt.ylabel('E (Joules)')\n",
    "plt.title('Wave function with positive real coefficient(s)')\n",
    "plt.legend()\n",
    "\n",
    "plt.show()\n",
    "\n",
    "for e_lvl in energy_levels:\n",
    "    plt.plot(\n",
    "        eval_points, solution_magnitude_squared_vals[e_lvl] + energies[e_lvl], \n",
    "        label='n =' + str(e_lvl))\n",
    "    plt.axhline(y=energies[e_lvl], linestyle='dashed')\n",
    "plt.xlabel('x (Position, Meters)')\n",
    "plt.ylabel('E (Joules)')\n",
    "plt.title('Squared magnitude of wave function (PDF)')\n",
    "plt.legend()"
   ]
  }
 ],
 "metadata": {
  "kernelspec": {
   "display_name": ".venv",
   "language": "python",
   "name": "python3"
  },
  "language_info": {
   "codemirror_mode": {
    "name": "ipython",
    "version": 3
   },
   "file_extension": ".py",
   "mimetype": "text/x-python",
   "name": "python",
   "nbconvert_exporter": "python",
   "pygments_lexer": "ipython3",
   "version": "3.11.3"
  },
  "orig_nbformat": 4
 },
 "nbformat": 4,
 "nbformat_minor": 2
}
